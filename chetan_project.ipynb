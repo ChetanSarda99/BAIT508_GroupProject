{
 "cells": [
  {
   "cell_type": "markdown",
   "metadata": {},
   "source": [
    "BAIT 508 Group Project: Industry Analysis\n",
    "\n",
    "PROJECT OVERVIEW: \n",
    "The goal of this project is to conduct an in-depth analysis of public US firms within selected industry sector(s) using various data analyses and natural language processing (NLP) techniques that we learned in BAIT 508. Each team will choose at least one industry sector to investigate and utilize multiple datasets to extract valuable industry insights from the data.\n",
    "\n",
    "The project will utilize three datasets (located in the data folder):\n",
    "•\tpublic_firms.csv\n",
    "•\tmajor_groups.csv\n",
    "•\t2020_10K_item1_full.csv"
   ]
  },
  {
   "cell_type": "code",
   "execution_count": 89,
   "metadata": {},
   "outputs": [],
   "source": [
    "import pandas as pd\n",
    "import numpy as np\n",
    "public_firms=pd.read_csv(r'C:\\Users\\sarda\\Desktop\\UBC\\BAIT 508\\GroupProject\\data\\public_firms.csv')\n",
    "twenty20_10K_item1_full=pd.read_csv(r'C:\\Users\\sarda\\Desktop\\UBC\\BAIT 508\\GroupProject\\data\\2020_10K_item1_full.csv')\n",
    "#major_groups =pd.read_csv(r'C:\\Users\\sarda\\Desktop\\UBC\\BAIT 508\\GroupProject\\data\\major_groups.csv')"
   ]
  },
  {
   "cell_type": "markdown",
   "metadata": {},
   "source": [
    "Part 1. Quantitative Analysis of the Industry Sector\n",
    "\n",
    "A.\t[Industry Sector Selection and Data Filtering; 20 points] \n",
    "\n",
    "1.\tThe file \"data/major_groups.csv\" contains a list of major industry sectors and their corresponding codes (column \"major_group\"). Your first task is to choose at least one industry sector that interests your group. It is okay if multiple groups choose the same industry sector, so you don’t need to coordinate with other groups.\n"
   ]
  },
  {
   "cell_type": "code",
   "execution_count": 90,
   "metadata": {},
   "outputs": [],
   "source": [
    "agri = ( '1','2','7','8','9') #Agriculture and Related Industries\n",
    "wholesale = ( '50','51') #Wholesale"
   ]
  },
  {
   "cell_type": "markdown",
   "metadata": {},
   "source": [
    "2.\tNext, filter the data in \"data/public_firms.csv\" to only include the firms belonging to the industry sector(s) you have selected. You can use the \"major_group\" value, which corresponds to the first two digits of each firm’s SIC code,  to identify relevant firms. For example, if you are interested in the “Business Service” sector and its \"major_group\" code is 73, you should retain all firms whose SIC codes start with 73. "
   ]
  },
  {
   "cell_type": "code",
   "execution_count": 91,
   "metadata": {},
   "outputs": [],
   "source": [
    "industries_agri = public_firms[public_firms['sic'].astype(str).str.startswith(agri)]\n",
    "industries_wholesale = public_firms[public_firms['sic'].astype(str).str.startswith(wholesale)]\n",
    "fname_industries = industries_wholesale"
   ]
  },
  {
   "cell_type": "markdown",
   "metadata": {},
   "source": [
    "3.\tNow, answer the following questions based on the filtered dataset: \n",
    "\n",
    "a.\tHow many unique firm-year (\"fyear\") observations are there in the filtered dataset?\n"
   ]
  },
  {
   "cell_type": "code",
   "execution_count": 92,
   "metadata": {},
   "outputs": [
    {
     "data": {
      "text/plain": [
       "27"
      ]
     },
     "execution_count": 92,
     "metadata": {},
     "output_type": "execute_result"
    }
   ],
   "source": [
    "unique_fyear=len(fname_industries['fyear'].unique())\n",
    "unique_fyear"
   ]
  },
  {
   "cell_type": "markdown",
   "metadata": {},
   "source": [
    "b.\tHow many unique firms are there in the filtered dataset?\n",
    "\n"
   ]
  },
  {
   "cell_type": "code",
   "execution_count": 93,
   "metadata": {},
   "outputs": [
    {
     "data": {
      "text/plain": [
       "640"
      ]
     },
     "execution_count": 93,
     "metadata": {},
     "output_type": "execute_result"
    }
   ],
   "source": [
    "unique_firms = len(fname_industries['conm'].unique())\n",
    "unique_firms"
   ]
  },
  {
   "cell_type": "markdown",
   "metadata": {},
   "source": [
    "c.\tHow many firms in the filtered dataset have records over all 27 years (1994-2020)?"
   ]
  },
  {
   "cell_type": "code",
   "execution_count": 94,
   "metadata": {},
   "outputs": [
    {
     "data": {
      "text/plain": [
       "11"
      ]
     },
     "execution_count": 94,
     "metadata": {},
     "output_type": "execute_result"
    }
   ],
   "source": [
    "filtered_firms = fname_industries.groupby('conm').filter(lambda x: len(x) == unique_fyear)\n",
    "num_firms = len(filtered_firms['conm'].unique())\n",
    "num_firms"
   ]
  },
  {
   "cell_type": "markdown",
   "metadata": {},
   "source": [
    "B.\t[Preliminary Analysis; 20 points] Answer the following questions:\n",
    "\n",
    "1.\tWhat are the top 10 firms with the highest stock price (column \"prcc_c\") in the year 2020?\n"
   ]
  },
  {
   "cell_type": "code",
   "execution_count": 95,
   "metadata": {},
   "outputs": [
    {
     "data": {
      "text/html": [
       "<div>\n",
       "<style scoped>\n",
       "    .dataframe tbody tr th:only-of-type {\n",
       "        vertical-align: middle;\n",
       "    }\n",
       "\n",
       "    .dataframe tbody tr th {\n",
       "        vertical-align: top;\n",
       "    }\n",
       "\n",
       "    .dataframe thead th {\n",
       "        text-align: right;\n",
       "    }\n",
       "</style>\n",
       "<table border=\"1\" class=\"dataframe\">\n",
       "  <thead>\n",
       "    <tr style=\"text-align: right;\">\n",
       "      <th></th>\n",
       "      <th>conm</th>\n",
       "    </tr>\n",
       "  </thead>\n",
       "  <tbody>\n",
       "    <tr>\n",
       "      <th>17053</th>\n",
       "      <td>GRAINGER (W W) INC</td>\n",
       "    </tr>\n",
       "    <tr>\n",
       "      <th>120862</th>\n",
       "      <td>POOL CORP</td>\n",
       "    </tr>\n",
       "    <tr>\n",
       "      <th>26157</th>\n",
       "      <td>MITSUI &amp; CO LTD</td>\n",
       "    </tr>\n",
       "    <tr>\n",
       "      <th>42140</th>\n",
       "      <td>WATSCO INC</td>\n",
       "    </tr>\n",
       "    <tr>\n",
       "      <th>24707</th>\n",
       "      <td>MCKESSON CORP</td>\n",
       "    </tr>\n",
       "    <tr>\n",
       "      <th>90303</th>\n",
       "      <td>SITEONE LANDSCAPE SUPPLY INC</td>\n",
       "    </tr>\n",
       "    <tr>\n",
       "      <th>95925</th>\n",
       "      <td>CDW CORP</td>\n",
       "    </tr>\n",
       "    <tr>\n",
       "      <th>104051</th>\n",
       "      <td>COPART INC</td>\n",
       "    </tr>\n",
       "    <tr>\n",
       "      <th>107901</th>\n",
       "      <td>RELIANCE STEEL &amp; ALUMINUM CO</td>\n",
       "    </tr>\n",
       "    <tr>\n",
       "      <th>119266</th>\n",
       "      <td>AMCON DISTRIBUTING CO</td>\n",
       "    </tr>\n",
       "  </tbody>\n",
       "</table>\n",
       "</div>"
      ],
      "text/plain": [
       "                                conm\n",
       "17053             GRAINGER (W W) INC\n",
       "120862                     POOL CORP\n",
       "26157                MITSUI & CO LTD\n",
       "42140                     WATSCO INC\n",
       "24707                  MCKESSON CORP\n",
       "90303   SITEONE LANDSCAPE SUPPLY INC\n",
       "95925                       CDW CORP\n",
       "104051                    COPART INC\n",
       "107901  RELIANCE STEEL & ALUMINUM CO\n",
       "119266         AMCON DISTRIBUTING CO"
      ]
     },
     "execution_count": 95,
     "metadata": {},
     "output_type": "execute_result"
    }
   ],
   "source": [
    "top_ten_stocks = fname_industries.sort_values('prcc_c', ascending=False).loc[fname_industries['fyear'] == 2020].head(10)\n",
    "top_ten_stocks[['conm']]"
   ]
  },
  {
   "cell_type": "markdown",
   "metadata": {},
   "source": [
    "2.\tWhat are the top 10 firms with the highest sales (column \"sale\") in the entire history of the dataset?"
   ]
  },
  {
   "cell_type": "code",
   "execution_count": 96,
   "metadata": {},
   "outputs": [
    {
     "data": {
      "text/html": [
       "<div>\n",
       "<style scoped>\n",
       "    .dataframe tbody tr th:only-of-type {\n",
       "        vertical-align: middle;\n",
       "    }\n",
       "\n",
       "    .dataframe tbody tr th {\n",
       "        vertical-align: top;\n",
       "    }\n",
       "\n",
       "    .dataframe thead th {\n",
       "        text-align: right;\n",
       "    }\n",
       "</style>\n",
       "<table border=\"1\" class=\"dataframe\">\n",
       "  <thead>\n",
       "    <tr style=\"text-align: right;\">\n",
       "      <th></th>\n",
       "      <th>sale</th>\n",
       "    </tr>\n",
       "    <tr>\n",
       "      <th>conm</th>\n",
       "      <th></th>\n",
       "    </tr>\n",
       "  </thead>\n",
       "  <tbody>\n",
       "    <tr>\n",
       "      <th>MCKESSON CORP</th>\n",
       "      <td>2876380.400</td>\n",
       "    </tr>\n",
       "    <tr>\n",
       "      <th>MITSUI &amp; CO LTD</th>\n",
       "      <td>2076384.551</td>\n",
       "    </tr>\n",
       "    <tr>\n",
       "      <th>CARDINAL HEALTH INC</th>\n",
       "      <td>2043256.797</td>\n",
       "    </tr>\n",
       "    <tr>\n",
       "      <th>AMERISOURCEBERGEN CORP</th>\n",
       "      <td>1954792.103</td>\n",
       "    </tr>\n",
       "    <tr>\n",
       "      <th>SYSCO CORP</th>\n",
       "      <td>900989.228</td>\n",
       "    </tr>\n",
       "    <tr>\n",
       "      <th>INGRAM MICRO INC</th>\n",
       "      <td>613663.628</td>\n",
       "    </tr>\n",
       "    <tr>\n",
       "      <th>SUPERVALU INC</th>\n",
       "      <td>563953.937</td>\n",
       "    </tr>\n",
       "    <tr>\n",
       "      <th>TECH DATA CORP</th>\n",
       "      <td>542110.884</td>\n",
       "    </tr>\n",
       "    <tr>\n",
       "      <th>CHS INC</th>\n",
       "      <td>530901.755</td>\n",
       "    </tr>\n",
       "    <tr>\n",
       "      <th>PLAINS ALL AMER PIPELNE  -LP</th>\n",
       "      <td>529420.474</td>\n",
       "    </tr>\n",
       "  </tbody>\n",
       "</table>\n",
       "</div>"
      ],
      "text/plain": [
       "                                     sale\n",
       "conm                                     \n",
       "MCKESSON CORP                 2876380.400\n",
       "MITSUI & CO LTD               2076384.551\n",
       "CARDINAL HEALTH INC           2043256.797\n",
       "AMERISOURCEBERGEN CORP        1954792.103\n",
       "SYSCO CORP                     900989.228\n",
       "INGRAM MICRO INC               613663.628\n",
       "SUPERVALU INC                  563953.937\n",
       "TECH DATA CORP                 542110.884\n",
       "CHS INC                        530901.755\n",
       "PLAINS ALL AMER PIPELNE  -LP   529420.474"
      ]
     },
     "execution_count": 96,
     "metadata": {},
     "output_type": "execute_result"
    }
   ],
   "source": [
    "top_10_firm = fname_industries.groupby('conm').sum(numeric_only=True).sort_values('sale', ascending=False).head(10)\n",
    "top_10_firm[['sale']]\n"
   ]
  },
  {
   "cell_type": "markdown",
   "metadata": {},
   "source": [
    "3.\tWhat is the geographical distribution (column \"location\") of all the firms? In other words, how many firms are there in each location? Please list the top 10 locations. "
   ]
  },
  {
   "cell_type": "code",
   "execution_count": 97,
   "metadata": {},
   "outputs": [
    {
     "data": {
      "text/plain": [
       "location\n",
       "USA    575\n",
       "CHN     22\n",
       "HKG     10\n",
       "GBR      7\n",
       "CAN      4\n",
       "ISR      4\n",
       "BRA      2\n",
       "ARE      2\n",
       "JPN      2\n",
       "MEX      1\n",
       "TWN      1\n",
       "RUS      1\n",
       "NLD      1\n",
       "MYS      1\n",
       "ANT      1\n",
       "CYM      1\n",
       "CHE      1\n",
       "BMU      1\n",
       "BEL      1\n",
       "AUS      1\n",
       "VGB      1\n",
       "Name: conm, dtype: int64"
      ]
     },
     "execution_count": 97,
     "metadata": {},
     "output_type": "execute_result"
    }
   ],
   "source": [
    "unique_locations = fname_industries.groupby('location')['conm'].nunique().sort_values(ascending=False)\n",
    "unique_locations"
   ]
  },
  {
   "cell_type": "markdown",
   "metadata": {},
   "source": [
    "4.\tCreate a line chart to show the average stock price (column \"prcc_c\") in the selected sector(s) across the years. If you have selected multiple sectors, draw multiple lines to show them separately.\n"
   ]
  },
  {
   "cell_type": "code",
   "execution_count": 98,
   "metadata": {},
   "outputs": [
    {
     "data": {
      "image/png": "[encoded data removed]",
      "text/plain": [
       "<Figure size 640x480 with 1 Axes>"
      ]
     },
     "metadata": {},
     "output_type": "display_data"
    }
   ],
   "source": [
    "mean_prcc_sic_year = fname_industries.groupby('fyear')['prcc_c'].mean().plot(legend=True)"
   ]
  },
  {
   "cell_type": "markdown",
   "metadata": {},
   "source": [
    "###5.\tWhich firm was affected the most by the 2008 Financial Crisis, as measured by the percentage drop in stock price from 2007 to 2008?"
   ]
  },
  {
   "cell_type": "code",
   "execution_count": 99,
   "metadata": {},
   "outputs": [],
   "source": [
    "\n",
    "prcc_c_2008 = fname_industries[fname_industries['fyear'] == 2008]\n",
    "prcc_c_2007 = fname_industries[fname_industries['fyear'] == 2007]\n",
    "#measured by the percentage drop in stock price for conm column from 2007 to 2008\n",
    "prcc_c_2008 = fname_industries.loc[fname_industries['fyear'] == 2008]"
   ]
  },
  {
   "cell_type": "code",
   "execution_count": 100,
   "metadata": {},
   "outputs": [
    {
     "data": {
      "text/plain": [
       "Index(['gvkey', 'fyear', 'location', 'conm', 'ipodate', 'sic', 'prcc_c', 'ch',\n",
       "       'ni', 'asset', 'sale', 'roa'],\n",
       "      dtype='object')"
      ]
     },
     "execution_count": 100,
     "metadata": {},
     "output_type": "execute_result"
    }
   ],
   "source": [
    "fname_industries.columns"
   ]
  },
  {
   "cell_type": "markdown",
   "metadata": {},
   "source": [
    "6.\tPlot the average Return on Assets (ROA) for the firms located in the “USA” across the years. ROA is calculated as ni/asset."
   ]
  },
  {
   "cell_type": "code",
   "execution_count": 102,
   "metadata": {},
   "outputs": [
    {
     "data": {
      "image/png": "[encoded data removed]",
      "text/plain": [
       "<Figure size 640x480 with 1 Axes>"
      ]
     },
     "metadata": {},
     "output_type": "display_data"
    }
   ],
   "source": [
    "fname_industries_roa = fname_industries.copy()\n",
    "fname_industries_roa['roa'] = fname_industries['ni'] / fname_industries['asset']\n",
    "usa_roa_yearly_mean_plot = fname_industries_roa[fname_industries_roa['location'] == 'USA'].groupby('fyear')['roa'].mean().plot(legend=True)"
   ]
  },
  {
   "cell_type": "markdown",
   "metadata": {},
   "source": [
    "Part 2. Text Analysis on the Industry Sector\n",
    "\n",
    "C.\t[Text Cleaning; 10 points] The file \"data/2020_10K_item1_full.csv\" contains a sample of 5,988 firms and their “item 1” content in their 10-K reports in the year 2020.  Load the dataset as a DataFrame and create a new column containing the cleaned text for each “item1” content. Follow the steps below to clean the text:\n",
    "\n",
    "1.\tConvert all words to lowercase.\n"
   ]
  },
  {
   "cell_type": "code",
   "execution_count": null,
   "metadata": {},
   "outputs": [],
   "source": []
  },
  {
   "cell_type": "code",
   "execution_count": null,
   "metadata": {},
   "outputs": [],
   "source": []
  }
 ],
 "metadata": {
  "kernelspec": {
   "display_name": "Python 3",
   "language": "python",
   "name": "python3"
  },
  "language_info": {
   "codemirror_mode": {
    "name": "ipython",
    "version": 3
   },
   "file_extension": ".py",
   "mimetype": "text/x-python",
   "name": "python",
   "nbconvert_exporter": "python",
   "pygments_lexer": "ipython3",
   "version": "3.11.2"
  },
  "orig_nbformat": 4
 },
 "nbformat": 4,
 "nbformat_minor": 2
}
