{
 "cells": [
  {
   "cell_type": "code",
   "execution_count": 2,
   "id": "0432617d",
   "metadata": {},
   "outputs": [
    {
     "name": "stdout",
     "output_type": "stream",
     "text": [
      "['AAR CORP', 'MITSUI & CO LTD', 'RICHARDSON ELECTRONICS LTD', 'PARAGON TECHNOLOGIES INC', 'VASO CORP', 'PATTERSON COS INC', 'TESSCO TECHNOLOGIES INC']\n"
     ]
    }
   ],
   "source": [
    "#Part1 A\n",
    "import pandas as pd\n",
    "import numpy as np\n",
    "#import the dataset\n",
    "public_firms=pd.read_csv(\"public_firms.csv\")\n",
    "#select the interested industry\n",
    "wholesale=public_firms[(public_firms['sic']>=5000) & (public_firms['sic']<5100)]\n",
    "wholesale.head()\n",
    "#a  find the number of unique fyear\n",
    "num_unique_fyear=len(wholesale['fyear'].unique())\n",
    "#b  find the number of unique firms\n",
    "num_unique_firms=len(wholesale['conm'].unique())\n",
    "#c  firms in the filtered dataset have records over all 27 years (1994-2020)\n",
    "conm=wholesale['conm'].unique()\n",
    "firms_fullrecords=[]\n",
    "for i in conm:\n",
    "    if len(wholesale[wholesale['conm']==i]['fyear'])==27:\n",
    "        firms_fullrecords.append(i)\n",
    "print(firms_fullrecords)\n",
    "\n"
   ]
  },
  {
   "cell_type": "code",
   "execution_count": 8,
   "id": "fcc7db26",
   "metadata": {},
   "outputs": [
    {
     "data": {
      "text/plain": [
       "gvkey          0\n",
       "fyear          0\n",
       "location       0\n",
       "conm           0\n",
       "ipodate     1585\n",
       "sic            0\n",
       "prcc_c       363\n",
       "ch            25\n",
       "ni             4\n",
       "asset          0\n",
       "sale           4\n",
       "roa            4\n",
       "dtype: int64"
      ]
     },
     "execution_count": 8,
     "metadata": {},
     "output_type": "execute_result"
    }
   ],
   "source": [
    "wholesale.isna().sum()"
   ]
  },
  {
   "cell_type": "code",
   "execution_count": 10,
   "id": "c01e7f9e",
   "metadata": {},
   "outputs": [
    {
     "name": "stdout",
     "output_type": "stream",
     "text": [
      "17053               GRAINGER (W W) INC\n",
      "120862                       POOL CORP\n",
      "26157                  MITSUI & CO LTD\n",
      "42140                       WATSCO INC\n",
      "90303     SITEONE LANDSCAPE SUPPLY INC\n",
      "95925                         CDW CORP\n",
      "104051                      COPART INC\n",
      "107901    RELIANCE STEEL & ALUMINUM CO\n",
      "16458                 GENUINE PARTS CO\n",
      "3081             ARROW ELECTRONICS INC\n",
      "Name: conm, dtype: object\n",
      "USA    3250\n",
      "CHN      60\n",
      "GBR      55\n",
      "HKG      51\n",
      "ISR      45\n",
      "JPN      27\n",
      "CAN      20\n",
      "AUS       6\n",
      "BEL       6\n",
      "VGB       5\n",
      "Name: location, dtype: int64\n"
     ]
    },
    {
     "name": "stderr",
     "output_type": "stream",
     "text": [
      "C:\\Users\\Lenovo\\AppData\\Local\\Temp\\ipykernel_8044\\95374341.py:3: UserWarning: Boolean Series key will be reindexed to match DataFrame index.\n",
      "  top_ten_stock=wholesale.sort_values('prcc_c',ascending=False)[wholesale['fyear']==2020][0:10]\n"
     ]
    },
    {
     "data": {
      "text/plain": [
       "<Axes: xlabel='fyear'>"
      ]
     },
     "execution_count": 10,
     "metadata": {},
     "output_type": "execute_result"
    },
    {
     "data": {
      "image/png": "[encoded data removed]",
      "text/plain": [
       "<Figure size 640x480 with 1 Axes>"
      ]
     },
     "metadata": {},
     "output_type": "display_data"
    }
   ],
   "source": [
    "#Part1 B\n",
    "#1. top 10 firms with the highest stock price (column \"prcc_c\") in the year 2020\n",
    "top_ten_stock=wholesale.sort_values('prcc_c',ascending=False)[wholesale['fyear']==2020][0:10]\n",
    "print(top_ten_stock['conm'])        \n",
    "\n",
    "#2. top 10 firms with the highest sales (column \"sale\") in the entire history of the dataset\n",
    "#compare the sum \n",
    "\n",
    "\n",
    "#3. how many firms are there in each location? Please list the top 10 locations\n",
    "#how to count each firm only once?\n",
    "print(wholesale['location'].value_counts()[0:10])\n",
    "\n",
    "#4. line chart to show the average stock price (column \"prcc_c\") in the selected sector(s) across the years\n",
    "df=wholesale.groupby('fyear')['prcc_c'].mean()\n",
    "df.plot()\n",
    "#5. Which firm was affected the most by the 2008 Financial Crisis, as measured by the percentage drop in stock price from 2007 to 2008?\n",
    "#financial=wholesale[(wholesale['fyear']==2007) | (wholesale['fyear']==2008)][['fyear','conm','prcc_c']]\n",
    "#print(financial)\n",
    "#for i,j in financial.iterrows():\n",
    "#    print(financial[0])\n",
    "    \n",
    "#no\n",
    "\n",
    "\n",
    "\n",
    "\n",
    "#6. Plot the average Return on Assets (ROA) for the firms located in the “USA” across the years. \n",
    "#bar \n",
    "\n",
    "\n",
    "\n",
    "\n"
   ]
  },
  {
   "cell_type": "code",
   "execution_count": null,
   "id": "e14c2c5a",
   "metadata": {},
   "outputs": [],
   "source": []
  },
  {
   "cell_type": "code",
   "execution_count": null,
   "id": "c53e2e5b",
   "metadata": {},
   "outputs": [],
   "source": []
  }
 ],
 "metadata": {
  "kernelspec": {
   "display_name": "Python 3 (ipykernel)",
   "language": "python",
   "name": "python3"
  },
  "language_info": {
   "codemirror_mode": {
    "name": "ipython",
    "version": 3
   },
   "file_extension": ".py",
   "mimetype": "text/x-python",
   "name": "python",
   "nbconvert_exporter": "python",
   "pygments_lexer": "ipython3",
   "version": "3.11.2"
  }
 },
 "nbformat": 4,
 "nbformat_minor": 5
}
